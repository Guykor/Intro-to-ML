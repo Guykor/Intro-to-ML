{
 "cells": [
  {
   "cell_type": "code",
   "execution_count": 1,
   "metadata": {},
   "outputs": [],
   "source": [
    "import numpy as np\n",
    "import pandas as pd\n",
    "from pyzipcode import ZipCodeDatabase\n",
    "from plotnine import *\n",
    "from sklearn.model_selection import train_test_split\n",
    "from sklearn.metrics import mean_squared_error"
   ]
  },
  {
   "cell_type": "code",
   "execution_count": 13,
   "metadata": {},
   "outputs": [],
   "source": [
    "def fit_linear_regression(X, y):\n",
    "    \"\"\"\n",
    "    fits a regression model for  design matrix X, and a response vector y.\n",
    "    :param X: design matrix of dim PxN\n",
    "    :param y: response vector of dim N\n",
    "    :return: (coefficient vector, X singular values) both of type np.array\n",
    "    \"\"\"\n",
    "    return np.dot(np.linalg.pinv(X), y), np.linalg.svd(X.drop('intercept', axis=1),\n",
    "                                                       compute_uv=False)\n",
    "\n",
    "# todo: check if it is all automate (dagger operation - how did matatn did it???????)\n",
    "def predict(X, w):\n",
    "    \"\"\"\n",
    "\n",
    "    :param X:\n",
    "    :param w:\n",
    "    :return: vector y for the predicted value of each sample (column in X)\n",
    "    \"\"\"\n",
    "    return np.dot(X, w)"
   ]
  },
  {
   "cell_type": "code",
   "execution_count": null,
   "metadata": {},
   "outputs": [],
   "source": [
    "data = pd.read_csv(r\"C:\\Guy\\University\\second_year\\IML\\ex2\\covid19_israel.csv\")\n",
    "\n",
    "data['log_detected'] = np.log(data.detected)\n",
    "\n",
    "data['intercept'] = np.full(data.shape[0],1)\n",
    "\n",
    "w_hat, _ = fit_linear_regression(data[['intercept','day_num']],data[['log_detected']])\n",
    "\n",
    "data['regression_model'] = predict(data[['intercept','day_num']], w_hat)\n",
    "\n",
    "ggplot(data) + geom_point(aes(x='day_num', y='log_detected', color=['log_detected'])) + \\\n",
    "geom_line(aes(x='day_num',y='regression_model',color=['regression_model'])) +\\\n",
    "labs(title=\"Covid19 log detected cases per day estimator vs reality\", color='')\n",
    "\n",
    "ggplot(data) + geom_point(aes(x='day_num', y='detected', color=['detected'])) + \\\n",
    "geom_line(aes(x='day_num',y='np.exp(regression_model)',color=['regression_model'])) +\\\n",
    "labs(title=\"Covid19 detected cases per day estimator vs reality\", color='')"
   ]
  },
  {
   "cell_type": "code",
   "execution_count": null,
   "metadata": {},
   "outputs": [],
   "source": []
  }
 ],
 "metadata": {
  "kernelspec": {
   "display_name": "Python 3",
   "language": "python",
   "name": "python3"
  },
  "language_info": {
   "codemirror_mode": {
    "name": "ipython",
    "version": 3
   },
   "file_extension": ".py",
   "mimetype": "text/x-python",
   "name": "python",
   "nbconvert_exporter": "python",
   "pygments_lexer": "ipython3",
   "version": "3.7.6"
  }
 },
 "nbformat": 4,
 "nbformat_minor": 4
}
